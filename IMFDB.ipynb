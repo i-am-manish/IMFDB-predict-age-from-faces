{
  "cells": [
    {
      "metadata": {
        "_uuid": "8f2839f25d086af736a60e9eeb907d3b93b6e0e5",
        "_cell_guid": "b1076dfc-b9ad-4769-8c92-a6c4dae69d19",
        "trusted": true
      },
      "cell_type": "code",
      "source": "import numpy as np\nimport pandas as pd\nfrom keras.models import Sequential\nfrom keras.layers import Dense,Dropout,Flatten,Conv2D,MaxPooling2D\nfrom keras.optimizers import SGD\nfrom keras.utils import np_utils\nimport os,cv2\n\n",
      "execution_count": 17,
      "outputs": []
    },
    {
      "metadata": {
        "_cell_guid": "79c7e3d0-c299-4dcb-8224-4455121ee9b0",
        "_uuid": "d629ff2d2480ee46fbb7e2d37f6b5fab8052498a",
        "trusted": true,
        "scrolled": true
      },
      "cell_type": "code",
      "source": "#train_data_preprocessing\ntrain=\"../input/train/\"\ndata_dir_list = os.listdir(train)\n\nimg_data_list=[]\nfor dataset in data_dir_list:\n    img_list=os.listdir(train+'/'+ dataset)\n    for img in img_list:\n        input_img=cv2.imread(train + '/'+ dataset + '/'+ img )\n        ##(for greyscale)input_img=cv2.cvtColor(input_img, cv2.COLOR_BGR2GRAY)\n        img_resize=cv2.resize(input_img,(32,32))\n        img_data_list.append(img_resize)\n\ntrain_x=np.array(img_data_list)\ntrain_x=train_x.astype('float32')\ntrain_x/=255\nprint(train_x.shape)\n\n\n#test_data_preprocessing\ntest='../input/test/'\ndata_dir_list=os.listdir(test)\n\nimg_data_list1=[]\nfor dataset in data_dir_list:\n    img_list=os.listdir(test+'/'+ dataset)\n    for img in img_list:\n        input_img=cv2.imread(test+'/'+ dataset+'/'+ img )\n        #input_img=cv2.cvtColor(input_img, cv2.COLOR_BGR2GRAY)\n        img_resize=cv2.resize(input_img,(32,32))\n        img_data_list1.append(img_resize)\n        \ntest_img_data=np.array(img_data_list1)\ntest_img_data=test_img_data.astype('float32')\ntest_img_data/=255\ntest_img_data.shape\n",
      "execution_count": 18,
      "outputs": [
        {
          "output_type": "stream",
          "text": "(19906, 32, 32, 3)\n",
          "name": "stdout"
        },
        {
          "output_type": "execute_result",
          "execution_count": 18,
          "data": {
            "text/plain": "(6636, 32, 32, 3)"
          },
          "metadata": {}
        }
      ]
    },
    {
      "metadata": {
        "trusted": true,
        "_uuid": "9f7b8e0cc696b36bb4ed11c2fd5b09bb3b15bbee",
        "scrolled": false
      },
      "cell_type": "code",
      "source": "traind=pd.read_csv(\"../input/train.csv\")\n#.value_counts(normalize=False, sort=True)\ntestd=pd.read_csv(\"../input/test.csv\")\nfrom sklearn.preprocessing import LabelEncoder\nle=LabelEncoder()\ntrain_y=le.fit_transform(traind.Class)\nprint(train_y)\ntrain_y=np_utils.to_categorical(train_y)\ntrain_y\n\n",
      "execution_count": 19,
      "outputs": [
        {
          "output_type": "stream",
          "text": "[0 2 0 ... 0 0 0]\n",
          "name": "stdout"
        },
        {
          "output_type": "execute_result",
          "execution_count": 19,
          "data": {
            "text/plain": "array([[1., 0., 0.],\n       [0., 0., 1.],\n       [1., 0., 0.],\n       ...,\n       [1., 0., 0.],\n       [1., 0., 0.],\n       [1., 0., 0.]])"
          },
          "metadata": {}
        }
      ]
    },
    {
      "metadata": {
        "trusted": true,
        "_uuid": "d8fd4df758f6fefd71e85d46f0bcfdc854cff3d8"
      },
      "cell_type": "code",
      "source": "model = Sequential()\nmodel.add(Conv2D(32, 5,5,border_mode=\"same\",input_shape=(32,32,3),activation=\"relu\"))\nmodel.add(Conv2D(32, 3,3,activation=\"relu\"))\nmodel.add(MaxPooling2D(pool_size=(2, 2)))\nmodel.add(Dropout(0.25))\n\nmodel.add(Conv2D(64, 3, 3,activation=\"relu\"))\nmodel.add(Conv2D(64, 3, 3,activation=\"relu\"))\nmodel.add(MaxPooling2D(pool_size=(2, 2)))\nmodel.add(Dropout(0.25))\n\nmodel.add(Flatten())\nmodel.add(Dense(64,activation=\"relu\"))\nmodel.add(Dropout(0.5))\nmodel.add(Dense(3,activation=\"softmax\"))\n#sgd = SGD(lr=0.01, decay=1e-6, momentum=0.9, nesterov=True)\n#model.compile(loss='categorical_crossentropy', optimizer=sgd,metrics=[\"accuracy\"])\nmodel.compile(loss='categorical_crossentropy',optimizer='rmsprop',metrics=[\"accuracy\"])\nmodel.summary()",
      "execution_count": 20,
      "outputs": [
        {
          "output_type": "stream",
          "text": "_________________________________________________________________\nLayer (type)                 Output Shape              Param #   \n=================================================================\nconv2d_17 (Conv2D)           (None, 32, 32, 32)        2432      \n_________________________________________________________________\nconv2d_18 (Conv2D)           (None, 30, 30, 32)        9248      \n_________________________________________________________________\nmax_pooling2d_9 (MaxPooling2 (None, 15, 15, 32)        0         \n_________________________________________________________________\ndropout_13 (Dropout)         (None, 15, 15, 32)        0         \n_________________________________________________________________\nconv2d_19 (Conv2D)           (None, 13, 13, 64)        18496     \n_________________________________________________________________\nconv2d_20 (Conv2D)           (None, 11, 11, 64)        36928     \n_________________________________________________________________\nmax_pooling2d_10 (MaxPooling (None, 5, 5, 64)          0         \n_________________________________________________________________\ndropout_14 (Dropout)         (None, 5, 5, 64)          0         \n_________________________________________________________________\nflatten_5 (Flatten)          (None, 1600)              0         \n_________________________________________________________________\ndense_9 (Dense)              (None, 64)                102464    \n_________________________________________________________________\ndropout_15 (Dropout)         (None, 64)                0         \n_________________________________________________________________\ndense_10 (Dense)             (None, 3)                 195       \n=================================================================\nTotal params: 169,763\nTrainable params: 169,763\nNon-trainable params: 0\n_________________________________________________________________\n",
          "name": "stdout"
        },
        {
          "output_type": "stream",
          "text": "/opt/conda/lib/python3.6/site-packages/ipykernel_launcher.py:2: UserWarning: Update your `Conv2D` call to the Keras 2 API: `Conv2D(32, (5, 5), input_shape=(32, 32, 3..., activation=\"relu\", padding=\"same\")`\n  \n/opt/conda/lib/python3.6/site-packages/ipykernel_launcher.py:3: UserWarning: Update your `Conv2D` call to the Keras 2 API: `Conv2D(32, (3, 3), activation=\"relu\")`\n  This is separate from the ipykernel package so we can avoid doing imports until\n/opt/conda/lib/python3.6/site-packages/ipykernel_launcher.py:7: UserWarning: Update your `Conv2D` call to the Keras 2 API: `Conv2D(64, (3, 3), activation=\"relu\")`\n  import sys\n/opt/conda/lib/python3.6/site-packages/ipykernel_launcher.py:8: UserWarning: Update your `Conv2D` call to the Keras 2 API: `Conv2D(64, (3, 3), activation=\"relu\")`\n  \n",
          "name": "stderr"
        }
      ]
    },
    {
      "metadata": {
        "trusted": true,
        "_uuid": "8329a40fa0f4fb8ba32732f0c65015059dbe57b7",
        "scrolled": true
      },
      "cell_type": "code",
      "source": "model.fit(train_x,train_y,epochs=30,batch_size=100,verbose=1,validation_split=0.2)",
      "execution_count": 21,
      "outputs": [
        {
          "output_type": "stream",
          "text": "Train on 15924 samples, validate on 3982 samples\nEpoch 1/30\n15924/15924 [==============================] - 4s 262us/step - loss: 0.9814 - acc: 0.5370 - val_loss: 0.9551 - val_acc: 0.5439\nEpoch 2/30\n15924/15924 [==============================] - 3s 210us/step - loss: 0.9631 - acc: 0.5425 - val_loss: 0.9482 - val_acc: 0.5439\nEpoch 3/30\n15924/15924 [==============================] - 3s 211us/step - loss: 0.9618 - acc: 0.5425 - val_loss: 0.9527 - val_acc: 0.5439\nEpoch 4/30\n15924/15924 [==============================] - 3s 211us/step - loss: 0.9607 - acc: 0.5425 - val_loss: 0.9484 - val_acc: 0.5439\nEpoch 5/30\n15924/15924 [==============================] - 3s 211us/step - loss: 0.9588 - acc: 0.5425 - val_loss: 0.9530 - val_acc: 0.5439\nEpoch 6/30\n15924/15924 [==============================] - 3s 211us/step - loss: 0.9593 - acc: 0.5425 - val_loss: 0.9500 - val_acc: 0.5439\nEpoch 7/30\n15924/15924 [==============================] - 3s 211us/step - loss: 0.9589 - acc: 0.5425 - val_loss: 0.9498 - val_acc: 0.5439\nEpoch 8/30\n15924/15924 [==============================] - 3s 211us/step - loss: 0.9587 - acc: 0.5425 - val_loss: 0.9520 - val_acc: 0.5439\nEpoch 9/30\n15924/15924 [==============================] - 3s 213us/step - loss: 0.9577 - acc: 0.5425 - val_loss: 0.9492 - val_acc: 0.5439\nEpoch 10/30\n15924/15924 [==============================] - 3s 212us/step - loss: 0.9593 - acc: 0.5425 - val_loss: 0.9492 - val_acc: 0.5439\nEpoch 11/30\n15924/15924 [==============================] - 3s 211us/step - loss: 0.9584 - acc: 0.5425 - val_loss: 0.9505 - val_acc: 0.5439\nEpoch 12/30\n15924/15924 [==============================] - 3s 211us/step - loss: 0.9588 - acc: 0.5425 - val_loss: 0.9506 - val_acc: 0.5439\nEpoch 13/30\n15924/15924 [==============================] - 3s 211us/step - loss: 0.9584 - acc: 0.5425 - val_loss: 0.9485 - val_acc: 0.5439\nEpoch 14/30\n15924/15924 [==============================] - 3s 211us/step - loss: 0.9567 - acc: 0.5425 - val_loss: 0.9508 - val_acc: 0.5439\nEpoch 15/30\n15924/15924 [==============================] - 3s 212us/step - loss: 0.9569 - acc: 0.5425 - val_loss: 0.9488 - val_acc: 0.5439\nEpoch 16/30\n15924/15924 [==============================] - 3s 212us/step - loss: 0.9569 - acc: 0.5425 - val_loss: 0.9484 - val_acc: 0.5439\nEpoch 17/30\n15924/15924 [==============================] - 3s 212us/step - loss: 0.9550 - acc: 0.5425 - val_loss: 0.9508 - val_acc: 0.5439\nEpoch 18/30\n15924/15924 [==============================] - 3s 212us/step - loss: 0.9574 - acc: 0.5425 - val_loss: 0.9490 - val_acc: 0.5439\nEpoch 19/30\n15924/15924 [==============================] - 3s 212us/step - loss: 0.9563 - acc: 0.5425 - val_loss: 0.9499 - val_acc: 0.5439\nEpoch 20/30\n15924/15924 [==============================] - 3s 211us/step - loss: 0.9557 - acc: 0.5425 - val_loss: 0.9709 - val_acc: 0.5439\nEpoch 21/30\n15924/15924 [==============================] - 3s 212us/step - loss: 0.9563 - acc: 0.5425 - val_loss: 0.9486 - val_acc: 0.5439\nEpoch 22/30\n15924/15924 [==============================] - 3s 212us/step - loss: 0.9551 - acc: 0.5424 - val_loss: 0.9494 - val_acc: 0.5439\nEpoch 23/30\n15924/15924 [==============================] - 3s 211us/step - loss: 0.9558 - acc: 0.5426 - val_loss: 0.9490 - val_acc: 0.5439\nEpoch 24/30\n15924/15924 [==============================] - 3s 212us/step - loss: 0.9559 - acc: 0.5423 - val_loss: 0.9488 - val_acc: 0.5439\nEpoch 25/30\n15924/15924 [==============================] - 3s 212us/step - loss: 0.9560 - acc: 0.5425 - val_loss: 0.9488 - val_acc: 0.5439\nEpoch 26/30\n15924/15924 [==============================] - 3s 211us/step - loss: 0.9549 - acc: 0.5426 - val_loss: 0.9486 - val_acc: 0.5439\nEpoch 27/30\n15924/15924 [==============================] - 3s 213us/step - loss: 0.9556 - acc: 0.5425 - val_loss: 0.9489 - val_acc: 0.5439\nEpoch 28/30\n15924/15924 [==============================] - 3s 212us/step - loss: 0.9551 - acc: 0.5425 - val_loss: 0.9490 - val_acc: 0.5442\nEpoch 29/30\n15924/15924 [==============================] - 3s 210us/step - loss: 0.9564 - acc: 0.5430 - val_loss: 0.9531 - val_acc: 0.5442\nEpoch 30/30\n15924/15924 [==============================] - 3s 211us/step - loss: 0.9596 - acc: 0.5428 - val_loss: 0.9514 - val_acc: 0.5437\n",
          "name": "stdout"
        },
        {
          "output_type": "execute_result",
          "execution_count": 21,
          "data": {
            "text/plain": "<keras.callbacks.History at 0x7feae1e0a828>"
          },
          "metadata": {}
        }
      ]
    },
    {
      "metadata": {
        "trusted": true,
        "_uuid": "c9082c0a474b57d8a2b9a182c5c3f79061a1e700"
      },
      "cell_type": "code",
      "source": "#plt.plot(epochs,train_acc,'r', label='train_acc')\n#plt.plot(epochs,val_acc,'b', label='val_acc')\n#plt.title('train_acc vs val_acc')\n#plt.legend()\n#plt.figure()\n\np=model.predict(test_img_data)\nprint(p.shape)\np=le.inverse_transform(p.all())\np.any()",
      "execution_count": 38,
      "outputs": [
        {
          "output_type": "stream",
          "text": "(6636, 3)\n",
          "name": "stdout"
        },
        {
          "output_type": "stream",
          "text": "/opt/conda/lib/python3.6/site-packages/sklearn/preprocessing/label.py:151: DeprecationWarning: The truth value of an empty array is ambiguous. Returning False, but in future this will result in an error. Use `array.size > 0` to check that an array is not empty.\n  if diff:\n",
          "name": "stderr"
        },
        {
          "output_type": "execute_result",
          "execution_count": 38,
          "data": {
            "text/plain": "'MIDDLE'"
          },
          "metadata": {}
        }
      ]
    },
    {
      "metadata": {
        "trusted": true,
        "_uuid": "bd2693ed7704cb0fc2eaf6f09b1dae0a958f3cb3"
      },
      "cell_type": "code",
      "source": "submit=pd.DataFrame({\"CLASS\":p.any(),\"ID\":testd.ID})\nsubmit.sort_values('ID', inplace=True)  \nsubmit.to_csv(\"s.csv\", index=False)\nsubmit",
      "execution_count": 41,
      "outputs": [
        {
          "output_type": "execute_result",
          "execution_count": 41,
          "data": {
            "text/plain": "       CLASS         ID\n242   MIDDLE     10.jpg\n819   MIDDLE   1000.jpg\n3145  MIDDLE  10002.jpg\n3656  MIDDLE  10003.jpg\n2225  MIDDLE  10005.jpg\n2353  MIDDLE  10006.jpg\n5664  MIDDLE   1001.jpg\n1596  MIDDLE  10010.jpg\n1067  MIDDLE  10012.jpg\n4664  MIDDLE  10014.jpg\n2975  MIDDLE  10020.jpg\n3982  MIDDLE  10022.jpg\n1802  MIDDLE  10024.jpg\n2978  MIDDLE  10029.jpg\n2909  MIDDLE  10032.jpg\n6128  MIDDLE  10033.jpg\n3611  MIDDLE  10037.jpg\n1086  MIDDLE  10039.jpg\n4100  MIDDLE  10042.jpg\n5305  MIDDLE  10044.jpg\n1415  MIDDLE  10049.jpg\n5138  MIDDLE  10052.jpg\n3880  MIDDLE  10054.jpg\n5161  MIDDLE  10060.jpg\n4009  MIDDLE  10064.jpg\n2790  MIDDLE  10066.jpg\n3573  MIDDLE  10072.jpg\n1788  MIDDLE  10074.jpg\n1463  MIDDLE  10075.jpg\n566   MIDDLE  10077.jpg\n...      ...        ...\n1264  MIDDLE   9884.jpg\n1780  MIDDLE   9885.jpg\n1     MIDDLE    989.jpg\n3965  MIDDLE    990.jpg\n438   MIDDLE   9907.jpg\n3782  MIDDLE   9913.jpg\n953   MIDDLE   9919.jpg\n4267  MIDDLE   9921.jpg\n4458  MIDDLE   9923.jpg\n542   MIDDLE   9925.jpg\n4670  MIDDLE   9926.jpg\n4815  MIDDLE   9928.jpg\n2075  MIDDLE   9936.jpg\n4645  MIDDLE   9939.jpg\n1283  MIDDLE    994.jpg\n276   MIDDLE   9946.jpg\n4214  MIDDLE   9951.jpg\n4637  MIDDLE   9956.jpg\n5874  MIDDLE   9960.jpg\n4384  MIDDLE   9962.jpg\n644   MIDDLE   9964.jpg\n2853  MIDDLE   9965.jpg\n1400  MIDDLE   9966.jpg\n2361  MIDDLE    997.jpg\n4577  MIDDLE   9972.jpg\n2977  MIDDLE   9979.jpg\n1337  MIDDLE   9981.jpg\n5143  MIDDLE   9993.jpg\n4233  MIDDLE   9995.jpg\n975   MIDDLE   9996.jpg\n\n[6636 rows x 2 columns]",
            "text/html": "<div>\n<style scoped>\n    .dataframe tbody tr th:only-of-type {\n        vertical-align: middle;\n    }\n\n    .dataframe tbody tr th {\n        vertical-align: top;\n    }\n\n    .dataframe thead th {\n        text-align: right;\n    }\n</style>\n<table border=\"1\" class=\"dataframe\">\n  <thead>\n    <tr style=\"text-align: right;\">\n      <th></th>\n      <th>CLASS</th>\n      <th>ID</th>\n    </tr>\n  </thead>\n  <tbody>\n    <tr>\n      <th>242</th>\n      <td>MIDDLE</td>\n      <td>10.jpg</td>\n    </tr>\n    <tr>\n      <th>819</th>\n      <td>MIDDLE</td>\n      <td>1000.jpg</td>\n    </tr>\n    <tr>\n      <th>3145</th>\n      <td>MIDDLE</td>\n      <td>10002.jpg</td>\n    </tr>\n    <tr>\n      <th>3656</th>\n      <td>MIDDLE</td>\n      <td>10003.jpg</td>\n    </tr>\n    <tr>\n      <th>2225</th>\n      <td>MIDDLE</td>\n      <td>10005.jpg</td>\n    </tr>\n    <tr>\n      <th>2353</th>\n      <td>MIDDLE</td>\n      <td>10006.jpg</td>\n    </tr>\n    <tr>\n      <th>5664</th>\n      <td>MIDDLE</td>\n      <td>1001.jpg</td>\n    </tr>\n    <tr>\n      <th>1596</th>\n      <td>MIDDLE</td>\n      <td>10010.jpg</td>\n    </tr>\n    <tr>\n      <th>1067</th>\n      <td>MIDDLE</td>\n      <td>10012.jpg</td>\n    </tr>\n    <tr>\n      <th>4664</th>\n      <td>MIDDLE</td>\n      <td>10014.jpg</td>\n    </tr>\n    <tr>\n      <th>2975</th>\n      <td>MIDDLE</td>\n      <td>10020.jpg</td>\n    </tr>\n    <tr>\n      <th>3982</th>\n      <td>MIDDLE</td>\n      <td>10022.jpg</td>\n    </tr>\n    <tr>\n      <th>1802</th>\n      <td>MIDDLE</td>\n      <td>10024.jpg</td>\n    </tr>\n    <tr>\n      <th>2978</th>\n      <td>MIDDLE</td>\n      <td>10029.jpg</td>\n    </tr>\n    <tr>\n      <th>2909</th>\n      <td>MIDDLE</td>\n      <td>10032.jpg</td>\n    </tr>\n    <tr>\n      <th>6128</th>\n      <td>MIDDLE</td>\n      <td>10033.jpg</td>\n    </tr>\n    <tr>\n      <th>3611</th>\n      <td>MIDDLE</td>\n      <td>10037.jpg</td>\n    </tr>\n    <tr>\n      <th>1086</th>\n      <td>MIDDLE</td>\n      <td>10039.jpg</td>\n    </tr>\n    <tr>\n      <th>4100</th>\n      <td>MIDDLE</td>\n      <td>10042.jpg</td>\n    </tr>\n    <tr>\n      <th>5305</th>\n      <td>MIDDLE</td>\n      <td>10044.jpg</td>\n    </tr>\n    <tr>\n      <th>1415</th>\n      <td>MIDDLE</td>\n      <td>10049.jpg</td>\n    </tr>\n    <tr>\n      <th>5138</th>\n      <td>MIDDLE</td>\n      <td>10052.jpg</td>\n    </tr>\n    <tr>\n      <th>3880</th>\n      <td>MIDDLE</td>\n      <td>10054.jpg</td>\n    </tr>\n    <tr>\n      <th>5161</th>\n      <td>MIDDLE</td>\n      <td>10060.jpg</td>\n    </tr>\n    <tr>\n      <th>4009</th>\n      <td>MIDDLE</td>\n      <td>10064.jpg</td>\n    </tr>\n    <tr>\n      <th>2790</th>\n      <td>MIDDLE</td>\n      <td>10066.jpg</td>\n    </tr>\n    <tr>\n      <th>3573</th>\n      <td>MIDDLE</td>\n      <td>10072.jpg</td>\n    </tr>\n    <tr>\n      <th>1788</th>\n      <td>MIDDLE</td>\n      <td>10074.jpg</td>\n    </tr>\n    <tr>\n      <th>1463</th>\n      <td>MIDDLE</td>\n      <td>10075.jpg</td>\n    </tr>\n    <tr>\n      <th>566</th>\n      <td>MIDDLE</td>\n      <td>10077.jpg</td>\n    </tr>\n    <tr>\n      <th>...</th>\n      <td>...</td>\n      <td>...</td>\n    </tr>\n    <tr>\n      <th>1264</th>\n      <td>MIDDLE</td>\n      <td>9884.jpg</td>\n    </tr>\n    <tr>\n      <th>1780</th>\n      <td>MIDDLE</td>\n      <td>9885.jpg</td>\n    </tr>\n    <tr>\n      <th>1</th>\n      <td>MIDDLE</td>\n      <td>989.jpg</td>\n    </tr>\n    <tr>\n      <th>3965</th>\n      <td>MIDDLE</td>\n      <td>990.jpg</td>\n    </tr>\n    <tr>\n      <th>438</th>\n      <td>MIDDLE</td>\n      <td>9907.jpg</td>\n    </tr>\n    <tr>\n      <th>3782</th>\n      <td>MIDDLE</td>\n      <td>9913.jpg</td>\n    </tr>\n    <tr>\n      <th>953</th>\n      <td>MIDDLE</td>\n      <td>9919.jpg</td>\n    </tr>\n    <tr>\n      <th>4267</th>\n      <td>MIDDLE</td>\n      <td>9921.jpg</td>\n    </tr>\n    <tr>\n      <th>4458</th>\n      <td>MIDDLE</td>\n      <td>9923.jpg</td>\n    </tr>\n    <tr>\n      <th>542</th>\n      <td>MIDDLE</td>\n      <td>9925.jpg</td>\n    </tr>\n    <tr>\n      <th>4670</th>\n      <td>MIDDLE</td>\n      <td>9926.jpg</td>\n    </tr>\n    <tr>\n      <th>4815</th>\n      <td>MIDDLE</td>\n      <td>9928.jpg</td>\n    </tr>\n    <tr>\n      <th>2075</th>\n      <td>MIDDLE</td>\n      <td>9936.jpg</td>\n    </tr>\n    <tr>\n      <th>4645</th>\n      <td>MIDDLE</td>\n      <td>9939.jpg</td>\n    </tr>\n    <tr>\n      <th>1283</th>\n      <td>MIDDLE</td>\n      <td>994.jpg</td>\n    </tr>\n    <tr>\n      <th>276</th>\n      <td>MIDDLE</td>\n      <td>9946.jpg</td>\n    </tr>\n    <tr>\n      <th>4214</th>\n      <td>MIDDLE</td>\n      <td>9951.jpg</td>\n    </tr>\n    <tr>\n      <th>4637</th>\n      <td>MIDDLE</td>\n      <td>9956.jpg</td>\n    </tr>\n    <tr>\n      <th>5874</th>\n      <td>MIDDLE</td>\n      <td>9960.jpg</td>\n    </tr>\n    <tr>\n      <th>4384</th>\n      <td>MIDDLE</td>\n      <td>9962.jpg</td>\n    </tr>\n    <tr>\n      <th>644</th>\n      <td>MIDDLE</td>\n      <td>9964.jpg</td>\n    </tr>\n    <tr>\n      <th>2853</th>\n      <td>MIDDLE</td>\n      <td>9965.jpg</td>\n    </tr>\n    <tr>\n      <th>1400</th>\n      <td>MIDDLE</td>\n      <td>9966.jpg</td>\n    </tr>\n    <tr>\n      <th>2361</th>\n      <td>MIDDLE</td>\n      <td>997.jpg</td>\n    </tr>\n    <tr>\n      <th>4577</th>\n      <td>MIDDLE</td>\n      <td>9972.jpg</td>\n    </tr>\n    <tr>\n      <th>2977</th>\n      <td>MIDDLE</td>\n      <td>9979.jpg</td>\n    </tr>\n    <tr>\n      <th>1337</th>\n      <td>MIDDLE</td>\n      <td>9981.jpg</td>\n    </tr>\n    <tr>\n      <th>5143</th>\n      <td>MIDDLE</td>\n      <td>9993.jpg</td>\n    </tr>\n    <tr>\n      <th>4233</th>\n      <td>MIDDLE</td>\n      <td>9995.jpg</td>\n    </tr>\n    <tr>\n      <th>975</th>\n      <td>MIDDLE</td>\n      <td>9996.jpg</td>\n    </tr>\n  </tbody>\n</table>\n<p>6636 rows × 2 columns</p>\n</div>"
          },
          "metadata": {}
        }
      ]
    },
    {
      "metadata": {
        "trusted": true,
        "collapsed": true,
        "_uuid": "a2cb13b2b3dc30594cd8523c48702c72ce88d12e"
      },
      "cell_type": "code",
      "source": "",
      "execution_count": null,
      "outputs": []
    }
  ],
  "metadata": {
    "kernelspec": {
      "display_name": "Python 3",
      "language": "python",
      "name": "python3"
    },
    "language_info": {
      "name": "python",
      "version": "3.6.4",
      "mimetype": "text/x-python",
      "codemirror_mode": {
        "name": "ipython",
        "version": 3
      },
      "pygments_lexer": "ipython3",
      "nbconvert_exporter": "python",
      "file_extension": ".py"
    }
  },
  "nbformat": 4,
  "nbformat_minor": 1
}